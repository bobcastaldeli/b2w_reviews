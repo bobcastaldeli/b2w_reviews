{
 "cells": [
  {
   "cell_type": "code",
   "execution_count": 1,
   "metadata": {},
   "outputs": [],
   "source": [
    "import datasets"
   ]
  },
  {
   "cell_type": "code",
   "execution_count": 2,
   "metadata": {
    "tags": [
     "node"
    ]
   },
   "outputs": [],
   "source": [
    "def load_reviews_dataset(dataset: str):\n",
    "    \"\"\"\n",
    "    Load the reviews dataset from the datasets library. \n",
    "    and save in a csv file in data folder\n",
    "    \n",
    "    Args:\n",
    "        dataset: dataset to be loaded\n",
    "    \n",
    "    Returns:\n",
    "        reviews: B2W reviews dataset from huggingface datasets library\n",
    "    \"\"\"\n",
    "    # load the dataset\n",
    "    reviews = datasets.load_dataset(dataset)\n",
    "    return reviews['train'].to_csv('../data/01_raw/reviews.csv', index=False)"
   ]
  },
  {
   "cell_type": "code",
   "execution_count": 3,
   "metadata": {},
   "outputs": [
    {
     "name": "stderr",
     "output_type": "stream",
     "text": [
      "Found cached dataset b2w-reviews01 (/home/bobcasta/.cache/huggingface/datasets/ruanchaves___b2w-reviews01/default/1.0.0/414dce7ecb4a1d15781c59f850c2abb5f36dca77358f366349c56501c50ba38d)\n"
     ]
    },
    {
     "data": {
      "application/vnd.jupyter.widget-view+json": {
       "model_id": "70ad8cf491864f1aa21c517da42db550",
       "version_major": 2,
       "version_minor": 0
      },
      "text/plain": [
       "  0%|          | 0/1 [00:00<?, ?it/s]"
      ]
     },
     "metadata": {},
     "output_type": "display_data"
    },
    {
     "data": {
      "application/vnd.jupyter.widget-view+json": {
       "model_id": "808956fde9c94ddd9d34b2eec761b9f2",
       "version_major": 2,
       "version_minor": 0
      },
      "text/plain": [
       "Creating CSV from Arrow format:   0%|          | 0/133 [00:00<?, ?ba/s]"
      ]
     },
     "metadata": {},
     "output_type": "display_data"
    }
   ],
   "source": [
    "DATASET = 'ruanchaves/b2w-reviews01'\n",
    "reviews = load_reviews_dataset(DATASET)"
   ]
  },
  {
   "cell_type": "code",
   "execution_count": null,
   "metadata": {},
   "outputs": [],
   "source": []
  }
 ],
 "metadata": {
  "kernelspec": {
   "display_name": ".b2w_reviews",
   "language": "python",
   "name": "python3"
  },
  "language_info": {
   "codemirror_mode": {
    "name": "ipython",
    "version": 3
   },
   "file_extension": ".py",
   "mimetype": "text/x-python",
   "name": "python",
   "nbconvert_exporter": "python",
   "pygments_lexer": "ipython3",
   "version": "3.8.10"
  },
  "orig_nbformat": 4,
  "vscode": {
   "interpreter": {
    "hash": "b40b47d9d8755d45c3827f18ef88617cc62a41defee026bf825f249f150acc76"
   }
  }
 },
 "nbformat": 4,
 "nbformat_minor": 2
}
